{
 "cells": [
  {
   "cell_type": "code",
   "execution_count": 1,
   "metadata": {},
   "outputs": [],
   "source": [
    "import pandas as pd\n",
    "import numpy as np\n",
    "import pickle as pk\n",
    "from scipy.optimize import curve_fit"
   ]
  },
  {
   "cell_type": "code",
   "execution_count": 76,
   "metadata": {},
   "outputs": [],
   "source": [
    "df = pd.read_csv('1_min_labeled.csv')"
   ]
  },
  {
   "cell_type": "code",
   "execution_count": 77,
   "metadata": {},
   "outputs": [],
   "source": [
    "df = df[['Vehicle_ID','Global_Time','Local_X','Local_Y','v_Width','v_Vel','v_Acc','Preceding','lateral_vel','lateral_acc','mean_vel','behavior']]"
   ]
  },
  {
   "cell_type": "code",
   "execution_count": 78,
   "metadata": {},
   "outputs": [
    {
     "data": {
      "text/html": [
       "<div>\n",
       "<style>\n",
       "    .dataframe thead tr:only-child th {\n",
       "        text-align: right;\n",
       "    }\n",
       "\n",
       "    .dataframe thead th {\n",
       "        text-align: left;\n",
       "    }\n",
       "\n",
       "    .dataframe tbody tr th {\n",
       "        vertical-align: top;\n",
       "    }\n",
       "</style>\n",
       "<table border=\"1\" class=\"dataframe\">\n",
       "  <thead>\n",
       "    <tr style=\"text-align: right;\">\n",
       "      <th></th>\n",
       "      <th>Vehicle_ID</th>\n",
       "      <th>Global_Time</th>\n",
       "      <th>Local_X</th>\n",
       "      <th>Local_Y</th>\n",
       "      <th>v_Width</th>\n",
       "      <th>v_Vel</th>\n",
       "      <th>v_Acc</th>\n",
       "      <th>Preceding</th>\n",
       "      <th>lateral_vel</th>\n",
       "      <th>lateral_acc</th>\n",
       "      <th>mean_vel</th>\n",
       "      <th>behavior</th>\n",
       "    </tr>\n",
       "  </thead>\n",
       "  <tbody>\n",
       "    <tr>\n",
       "      <th>0</th>\n",
       "      <td>36</td>\n",
       "      <td>1113433135300</td>\n",
       "      <td>27.126</td>\n",
       "      <td>75.567</td>\n",
       "      <td>8.5</td>\n",
       "      <td>11.08</td>\n",
       "      <td>0.0</td>\n",
       "      <td>0</td>\n",
       "      <td>0.00</td>\n",
       "      <td>0.0</td>\n",
       "      <td>11.08</td>\n",
       "      <td>2</td>\n",
       "    </tr>\n",
       "    <tr>\n",
       "      <th>1</th>\n",
       "      <td>36</td>\n",
       "      <td>1113433135400</td>\n",
       "      <td>27.126</td>\n",
       "      <td>76.568</td>\n",
       "      <td>8.5</td>\n",
       "      <td>11.08</td>\n",
       "      <td>0.0</td>\n",
       "      <td>0</td>\n",
       "      <td>0.00</td>\n",
       "      <td>0.0</td>\n",
       "      <td>11.08</td>\n",
       "      <td>2</td>\n",
       "    </tr>\n",
       "    <tr>\n",
       "      <th>2</th>\n",
       "      <td>36</td>\n",
       "      <td>1113433135500</td>\n",
       "      <td>27.126</td>\n",
       "      <td>77.567</td>\n",
       "      <td>8.5</td>\n",
       "      <td>11.08</td>\n",
       "      <td>0.0</td>\n",
       "      <td>0</td>\n",
       "      <td>0.00</td>\n",
       "      <td>0.0</td>\n",
       "      <td>11.08</td>\n",
       "      <td>2</td>\n",
       "    </tr>\n",
       "    <tr>\n",
       "      <th>3</th>\n",
       "      <td>36</td>\n",
       "      <td>1113433135600</td>\n",
       "      <td>27.127</td>\n",
       "      <td>78.067</td>\n",
       "      <td>8.5</td>\n",
       "      <td>11.08</td>\n",
       "      <td>0.0</td>\n",
       "      <td>0</td>\n",
       "      <td>0.01</td>\n",
       "      <td>0.1</td>\n",
       "      <td>11.08</td>\n",
       "      <td>2</td>\n",
       "    </tr>\n",
       "    <tr>\n",
       "      <th>4</th>\n",
       "      <td>36</td>\n",
       "      <td>1113433135700</td>\n",
       "      <td>27.625</td>\n",
       "      <td>81.067</td>\n",
       "      <td>8.5</td>\n",
       "      <td>11.08</td>\n",
       "      <td>0.0</td>\n",
       "      <td>0</td>\n",
       "      <td>4.98</td>\n",
       "      <td>49.7</td>\n",
       "      <td>11.08</td>\n",
       "      <td>2</td>\n",
       "    </tr>\n",
       "  </tbody>\n",
       "</table>\n",
       "</div>"
      ],
      "text/plain": [
       "   Vehicle_ID    Global_Time  Local_X  Local_Y  v_Width  v_Vel  v_Acc  \\\n",
       "0          36  1113433135300   27.126   75.567      8.5  11.08    0.0   \n",
       "1          36  1113433135400   27.126   76.568      8.5  11.08    0.0   \n",
       "2          36  1113433135500   27.126   77.567      8.5  11.08    0.0   \n",
       "3          36  1113433135600   27.127   78.067      8.5  11.08    0.0   \n",
       "4          36  1113433135700   27.625   81.067      8.5  11.08    0.0   \n",
       "\n",
       "   Preceding  lateral_vel  lateral_acc  mean_vel  behavior  \n",
       "0          0         0.00          0.0     11.08         2  \n",
       "1          0         0.00          0.0     11.08         2  \n",
       "2          0         0.00          0.0     11.08         2  \n",
       "3          0         0.01          0.1     11.08         2  \n",
       "4          0         4.98         49.7     11.08         2  "
      ]
     },
     "execution_count": 78,
     "metadata": {},
     "output_type": "execute_result"
    }
   ],
   "source": [
    "df[:5]"
   ]
  },
  {
   "cell_type": "markdown",
   "metadata": {},
   "source": [
    "### Behaviors:\n",
    "Sorted by priority. E.g. Lane changing may contrain braking action. But we treat it as lane changing when within the intention to action dealy period\n",
    "* Lane changing to the left;\n",
    "* Lane changing to the right;\n",
    "* Acceleration;\n",
    "* Braking;\n",
    "* Lane following;"
   ]
  },
  {
   "cell_type": "code",
   "execution_count": 79,
   "metadata": {},
   "outputs": [],
   "source": [
    "def calc_features(vehicles, ego_id, v_mean):\n",
    "    \n",
    "    ego = vehicles[ego_id]\n",
    "    if ego.Preceding in vehicles.keys():\n",
    "        front = vehicles[ego.Preceding]\n",
    "    else:\n",
    "        front = None\n",
    "    \n",
    "    if len(vehicles) > 1:\n",
    "        v_mean = (v_mean * len(vehicles) - ego.v_Vel) / (len(vehicles)-1)\n",
    "    \n",
    "    lane_width = 12\n",
    "    \n",
    "    f = np.zeros(11)\n",
    "    \n",
    "    f[1] = ego.v_Acc # because the angle is small, we use a to approximate longitudinal acceleration\n",
    "    f[2] = 0 # No deceleration light info in data\n",
    "    f[3] = ego.lateral_acc\n",
    "    f[4] = ego.v_Vel - v_mean\n",
    "    f[5] = ego.v_Vel - front.v_Vel if front is not None else 0\n",
    "    f[6] = -1 if min(ego.Local_X % lane_width, lane_width - (ego.Local_X % lane_width)) - (ego.v_Width/2) < 0 else 0\n",
    "    f[7] = 0\n",
    "    f[8] = ego.lateral_vel # calculated by Local_X derivative\n",
    "    f[9] = (ego.Local_X % lane_width) - (lane_width / 2)\n",
    "    f[10] = lane_width\n",
    "    \n",
    "    return f\n",
    "\n"
   ]
  },
  {
   "cell_type": "code",
   "execution_count": 80,
   "metadata": {},
   "outputs": [
    {
     "name": "stdout",
     "output_type": "stream",
     "text": [
      "(101475, 11)\n",
      "(101475,)\n"
     ]
    }
   ],
   "source": [
    "dT = 0.1\n",
    "x = list()\n",
    "y = list()\n",
    "vehicles = dict()\n",
    "show_up = set()\n",
    "vel_sum = 0\n",
    "    \n",
    "\n",
    "for i in range(len(df)):\n",
    "    r = df.iloc[i]\n",
    "    v_id = r.Vehicle_ID\n",
    "\n",
    "    show_up.add(v_id)\n",
    "    vehicles[v_id] = r.copy()\n",
    "\n",
    "    f = calc_features(vehicles, v_id, r.mean_vel)\n",
    "    x.append(f)\n",
    "    y.append(r.behavior)\n",
    "\n",
    "    if i == len(df)-1 or r.Global_Time != df.iloc[i+1].Global_Time:\n",
    "        for v_id in vehicles.keys():\n",
    "            if v_id not in show_up:\n",
    "                vehicles.remove(v_id)\n",
    "\n",
    "x = np.array(x)\n",
    "y = np.array(y).astype(np.int)\n",
    "print(np.shape(x))\n",
    "print(np.shape(y))"
   ]
  },
  {
   "cell_type": "code",
   "execution_count": 81,
   "metadata": {},
   "outputs": [
    {
     "data": {
      "text/plain": [
       "(array([], dtype=int64), array([], dtype=int64))"
      ]
     },
     "execution_count": 81,
     "metadata": {},
     "output_type": "execute_result"
    }
   ],
   "source": [
    "np.where(np.isnan(x))"
   ]
  },
  {
   "cell_type": "code",
   "execution_count": 83,
   "metadata": {},
   "outputs": [],
   "source": [
    "def gen_train_data_label(x, y, filt_func):\n",
    "    \n",
    "    mask = filt_func(y)\n",
    "    z = np.where(mask)[0]\n",
    "    p = np.where(~mask)[0]\n",
    "    if len(z) > len(p):\n",
    "        z,p = p,z # make sure p is the longer one\n",
    "\n",
    "    np.random.shuffle(p)\n",
    "    p = p[:len(z)] # make sure two classes have same number of data in expectation\n",
    "    p = np.concatenate([p,z])\n",
    "        \n",
    "    np.random.shuffle(p)\n",
    "    data = np.array(x)[p,:]\n",
    "    label = np.array(y)[p]\n",
    "\n",
    "    mask = np.zeros_like(label,dtype=bool)\n",
    "    mask[filt_func(label)] = True\n",
    "    label[mask] = 1\n",
    "    label[~mask] = 0\n",
    "    return (data, label)"
   ]
  },
  {
   "cell_type": "code",
   "execution_count": 84,
   "metadata": {},
   "outputs": [],
   "source": [
    "from sklearn.metrics import confusion_matrix"
   ]
  },
  {
   "cell_type": "code",
   "execution_count": 85,
   "metadata": {},
   "outputs": [],
   "source": [
    "def sgn(x):\n",
    "    return (x > 0) * 2 - 1     \n",
    "def test(func, data, label, coef):\n",
    "    pred = func(data, *coef) > 0.5\n",
    "    print('accuracy:', 1 - np.sum(abs(pred - label)) / len(label))\n",
    "    tn, fp, fn, tp = confusion_matrix(label, pred).ravel()\n",
    "    print(tn, fn)\n",
    "    print(fp, tp)"
   ]
  },
  {
   "cell_type": "code",
   "execution_count": 191,
   "metadata": {},
   "outputs": [
    {
     "name": "stdout",
     "output_type": "stream",
     "text": [
      "[-1.39253014 -0.73561408  2.64879195]\n",
      "accuracy: 0.799846625767\n",
      "2184 620\n",
      "424 1988\n",
      "0.840107361963\n"
     ]
    }
   ],
   "source": [
    "\n",
    "def changing_lane(x, c1, c2, c3):\n",
    "    pred = 1 / (1 + np.exp(c1 * abs(x[:,8]) + c2 * abs(x[:,9]) + c3))\n",
    "    return pred\n",
    "\n",
    "changing_data, changing_label = gen_train_data_label(x, y, lambda y: y < 2)\n",
    "changing_lane_coef, pcov = curve_fit(changing_lane, changing_data, changing_label)\n",
    "print(changing_lane_coef)\n",
    "test(changing_lane, changing_data, changing_label, changing_lane_coef)\n",
    "\n",
    "rfc = RandomForestClassifier(n_estimators=100, max_depth=5)\n",
    "rfc.fit(changing_data, changing_label)\n",
    "print(rfc.score(changing_data, changing_label))\n",
    "\n"
   ]
  },
  {
   "cell_type": "code",
   "execution_count": 192,
   "metadata": {},
   "outputs": [],
   "source": [
    "f = open('random_forest_changing.txt', 'wb')\n",
    "pk.dump(rfc, f) "
   ]
  },
  {
   "cell_type": "code",
   "execution_count": 168,
   "metadata": {},
   "outputs": [
    {
     "name": "stdout",
     "output_type": "stream",
     "text": [
      "accuracy: 0.7097799511\n",
      "4999 2425\n",
      "1136 3710\n",
      "0.767970660147\n"
     ]
    }
   ],
   "source": [
    "def accelerating(x, c1, c2, c3):\n",
    "    pred1 = changing_lane(x, *changing_lane_coef)\n",
    "#     pred2 = 1 - np.exp(- c1 * x[:,1]**2 - c2 * x[:,5]**2)\n",
    "    pred2 = 1 / (1 + np.exp(c1 * abs(x[:,1]) + c2 * abs(x[:,5]) + c3))\n",
    "    pred = np.minimum(1 - pred1, pred2)\n",
    "    return pred\n",
    "\n",
    "accelerating_data, accelerating_label = gen_train_data_label(x, y, lambda y: (y == 2) | (y == 3))\n",
    "accelerating_coef, pcov = curve_fit(accelerating, accelerating_data, accelerating_label)\n",
    "test(accelerating, accelerating_data, accelerating_label, accelerating_coef)\n",
    "\n",
    "rfa = RandomForestClassifier(n_estimators=100, max_depth=5)\n",
    "rfa.fit(accelerating_data, accelerating_label)\n",
    "print(rfa.score(accelerating_data, accelerating_label))"
   ]
  },
  {
   "cell_type": "code",
   "execution_count": 173,
   "metadata": {},
   "outputs": [
    {
     "data": {
      "text/plain": [
       "array([ 0.40079827,  0.40079827,  0.40079827, ...,  0.68091269,\n",
       "        0.54258512,  0.46234822])"
      ]
     },
     "execution_count": 173,
     "metadata": {},
     "output_type": "execute_result"
    }
   ],
   "source": [
    "pred_c = rfc.predict_proba(x)\n",
    "pred_a = rfa.predict_proba(x)\n",
    "pred_f = 1 - np.min(pred_c[:,1], )\n",
    "pred_a[:,1]"
   ]
  },
  {
   "cell_type": "code",
   "execution_count": 92,
   "metadata": {},
   "outputs": [],
   "source": [
    "split = int(len(x) * 0.8)\n",
    "train_x = x[:split,:]\n",
    "train_y = y[:split]\n",
    "test_x = x[split:,:]\n",
    "test_y = y[split:]"
   ]
  },
  {
   "cell_type": "code",
   "execution_count": 114,
   "metadata": {},
   "outputs": [],
   "source": [
    "from sklearn.svm import SVC\n",
    "from sklearn import tree\n",
    "from sklearn.ensemble import RandomForestClassifier"
   ]
  },
  {
   "cell_type": "code",
   "execution_count": 93,
   "metadata": {},
   "outputs": [
    {
     "data": {
      "text/plain": [
       "SVC(C=1.0, cache_size=200, class_weight=None, coef0=0.0,\n",
       "  decision_function_shape='ovr', degree=3, gamma='auto', kernel='rbf',\n",
       "  max_iter=-1, probability=False, random_state=None, shrinking=True,\n",
       "  tol=0.001, verbose=False)"
      ]
     },
     "execution_count": 93,
     "metadata": {},
     "output_type": "execute_result"
    }
   ],
   "source": [
    "clf = SVC(gamma='auto')\n",
    "clf.fit(train_x, train_y)"
   ]
  },
  {
   "cell_type": "code",
   "execution_count": 95,
   "metadata": {},
   "outputs": [
    {
     "data": {
      "text/plain": [
       "0.84254742547425476"
      ]
     },
     "execution_count": 95,
     "metadata": {},
     "output_type": "execute_result"
    }
   ],
   "source": [
    "clf.score(train_x, train_y)"
   ]
  },
  {
   "cell_type": "code",
   "execution_count": 104,
   "metadata": {},
   "outputs": [
    {
     "data": {
      "text/plain": [
       "0.76077851687607789"
      ]
     },
     "execution_count": 104,
     "metadata": {},
     "output_type": "execute_result"
    }
   ],
   "source": [
    "clf.score(test_x, test_y)"
   ]
  },
  {
   "cell_type": "code",
   "execution_count": 98,
   "metadata": {},
   "outputs": [
    {
     "data": {
      "text/plain": [
       "DecisionTreeClassifier(class_weight=None, criterion='gini', max_depth=None,\n",
       "            max_features=None, max_leaf_nodes=None,\n",
       "            min_impurity_decrease=0.0, min_impurity_split=None,\n",
       "            min_samples_leaf=1, min_samples_split=2,\n",
       "            min_weight_fraction_leaf=0.0, presort=False, random_state=None,\n",
       "            splitter='best')"
      ]
     },
     "execution_count": 98,
     "metadata": {},
     "output_type": "execute_result"
    }
   ],
   "source": [
    "dtc = tree.DecisionTreeClassifier()\n",
    "dtc.fit(train_x, train_y)"
   ]
  },
  {
   "cell_type": "code",
   "execution_count": 162,
   "metadata": {},
   "outputs": [
    {
     "name": "stdout",
     "output_type": "stream",
     "text": [
      "3830\n",
      "3830\n"
     ]
    }
   ],
   "source": [
    "min_k = 1e10\n",
    "for c in range(5):\n",
    "    k = np.sum(y == c)\n",
    "    min_k = min(k, min_k)\n",
    "\n",
    "bidx = np.array([]).astype(int)\n",
    "for c in range(5):\n",
    "    bidx = np.concatenate([bidx, np.where(y == c)[0][:min_k]])\n",
    "\n",
    "\n",
    "bx = x[bidx,:]\n",
    "by = y[bidx]\n",
    "print(len(bx))\n",
    "print(len(by))"
   ]
  },
  {
   "cell_type": "code",
   "execution_count": 119,
   "metadata": {},
   "outputs": [
    {
     "name": "stdout",
     "output_type": "stream",
     "text": [
      "1.0\n",
      "0.743532889874\n"
     ]
    }
   ],
   "source": [
    "print(dtc.score(train_x, train_y))\n",
    "print(dtc.score(test_x, test_y))"
   ]
  },
  {
   "cell_type": "code",
   "execution_count": 163,
   "metadata": {},
   "outputs": [
    {
     "data": {
      "text/plain": [
       "RandomForestClassifier(bootstrap=True, class_weight=None, criterion='gini',\n",
       "            max_depth=5, max_features='auto', max_leaf_nodes=None,\n",
       "            min_impurity_decrease=0.0, min_impurity_split=None,\n",
       "            min_samples_leaf=1, min_samples_split=2,\n",
       "            min_weight_fraction_leaf=0.0, n_estimators=100, n_jobs=None,\n",
       "            oob_score=False, random_state=None, verbose=0,\n",
       "            warm_start=False)"
      ]
     },
     "execution_count": 163,
     "metadata": {},
     "output_type": "execute_result"
    }
   ],
   "source": [
    "rfc = RandomForestClassifier(n_estimators=100, max_depth=5)\n",
    "rfc.fit(bx, by)"
   ]
  },
  {
   "cell_type": "code",
   "execution_count": 164,
   "metadata": {},
   "outputs": [
    {
     "name": "stdout",
     "output_type": "stream",
     "text": [
      "0.476595220498\n",
      "0.442128603104\n"
     ]
    }
   ],
   "source": [
    "print(rfc.score(train_x, train_y))\n",
    "print(rfc.score(test_x, test_y))"
   ]
  },
  {
   "cell_type": "code",
   "execution_count": 147,
   "metadata": {},
   "outputs": [
    {
     "data": {
      "text/plain": [
       "array([[ 0.0091362 ,  0.0136539 ,  0.50924947,  0.39904193,  0.0689185 ]])"
      ]
     },
     "execution_count": 147,
     "metadata": {},
     "output_type": "execute_result"
    }
   ],
   "source": [
    "rfc.predict_proba(x[0:1,:])"
   ]
  },
  {
   "cell_type": "code",
   "execution_count": 148,
   "metadata": {},
   "outputs": [],
   "source": [
    "f = open('random_forest.txt', 'wb')\n",
    "pk.dump(rfc, f) "
   ]
  },
  {
   "cell_type": "code",
   "execution_count": 112,
   "metadata": {},
   "outputs": [
    {
     "data": {
      "text/plain": [
       "2"
      ]
     },
     "execution_count": 112,
     "metadata": {},
     "output_type": "execute_result"
    }
   ],
   "source": [
    "xx = x[0,:]\n",
    "dtc.predict(xx[np.newaxis,:])[0]"
   ]
  },
  {
   "cell_type": "code",
   "execution_count": 105,
   "metadata": {},
   "outputs": [],
   "source": [
    "f = open('decision_tree.txt', 'wb')\n",
    "pk.dump(dtc, f) "
   ]
  },
  {
   "cell_type": "code",
   "execution_count": null,
   "metadata": {},
   "outputs": [],
   "source": [
    "f = open('changing_coef.txt','wb')\n",
    "pk.dump(changing_lane_coef, f)\n",
    "f = open('accelerating_coef.txt','wb')\n",
    "pk.dump(accelerating_coef, f)"
   ]
  },
  {
   "cell_type": "code",
   "execution_count": null,
   "metadata": {},
   "outputs": [],
   "source": [
    "def following(x, c1, c2, c3, c4, c5):\n",
    "    pred1 = changing_lane(x, c1, c2, c3)\n",
    "    pred2 = accelerating(x, c4, c5)\n",
    "    pred = 1 - np.maximum(pred1, pred2)\n",
    "    print(pred1)\n",
    "    print(pred2)\n",
    "    print(pred)\n",
    "    \n",
    "    return pred\n",
    "\n",
    "following_data, following_label = gen_train_data_label(x, y, lambda y: y == 4)\n",
    "print(len(following_data))\n",
    "print(sum(following_label))\n",
    "test(following, following_data, following_label, np.concatenate([changing_lane_coef, accelerating_coef], axis=0))\n"
   ]
  },
  {
   "cell_type": "code",
   "execution_count": null,
   "metadata": {},
   "outputs": [],
   "source": []
  },
  {
   "cell_type": "code",
   "execution_count": null,
   "metadata": {},
   "outputs": [],
   "source": []
  },
  {
   "cell_type": "code",
   "execution_count": 189,
   "metadata": {},
   "outputs": [
    {
     "name": "stdout",
     "output_type": "stream",
     "text": [
      "[ 0.45453129]\n",
      "[ 0.43055007]\n",
      "[ 0.54546871]\n",
      "4\n",
      "2.0\n",
      "acc:  0.0\n"
     ]
    }
   ],
   "source": [
    "\n",
    "def get_intention(df):\n",
    "    dT = 0.1\n",
    "    x = list()\n",
    "    y = list()\n",
    "    vehicles = dict()\n",
    "    show_up = set()\n",
    "    vel_sum = 0\n",
    "    correct_cnt = 0\n",
    "    for i in range(len(df)):\n",
    "        r = df.iloc[i]\n",
    "        v_id = r.Vehicle_ID\n",
    "\n",
    "        show_up.add(v_id)\n",
    "\n",
    "        if v_id not in vehicles.keys():\n",
    "            df.at[i,'lateral_acc'] = 0\n",
    "            df.at[i,'lateral_vel'] = 0\n",
    "            vehicles[v_id] = r.copy()\n",
    "        else:\n",
    "            lateral_V = (r.Local_X - vehicles[v_id].Local_X) / dT\n",
    "            vel_sum -= vehicles[v_id].v_Vel\n",
    "            df.at[i,'lateral_acc'] = (lateral_V - vehicles[v_id]['lateral_vel']) /dT\n",
    "            df.at[i,'lateral_vel'] = lateral_V\n",
    "            vehicles[v_id] = r.copy()\n",
    "            vel_sum += vehicles[v_id].v_Vel\n",
    "\n",
    "        v_mean = vel_sum / len(vehicles)\n",
    "\n",
    "        f = calc_features(vehicles, v_id, v_mean)\n",
    "        f = f[np.newaxis,:]\n",
    "#         pred_chg = changing_lane(f, *changing_lane_coef)\n",
    "#         pred_acc = accelerating(f, *accelerating_coef)\n",
    "        pred_chg = rfc.predict_proba(f)[:,1]\n",
    "        pred_acc = rfa.predict_proba(f)[:,1]\n",
    "\n",
    "        pred_flw = 1 - np.maximum(pred_chg, pred_acc)\n",
    "        print(pred_chg)\n",
    "        print(pred_acc)\n",
    "        print(pred_flw)\n",
    "\n",
    "        if pred_chg > 0.5:\n",
    "            pred_beh = int(f[0,9] > 0)\n",
    "        elif pred_acc > 0.5:\n",
    "            pred_beh = int(f[0,1] > 0) + 2\n",
    "        else:\n",
    "            pred_beh = 4\n",
    "        print(pred_beh)\n",
    "        print(r.behavior)\n",
    "        break\n",
    "        correct_cnt += r.behavior == pred_beh\n",
    "        if i > 0 and i % 100 == 0:\n",
    "            print(correct_cnt / i)\n",
    "\n",
    "        #remove exited car after every moment\n",
    "        if i == len(df)-1 or r.Global_Time != df.iloc[i+1].Global_Time:\n",
    "            for v_id in vehicles.keys():\n",
    "                if v_id not in show_up:\n",
    "                    vel_sum -= vehicles[v_id].v_Vel\n",
    "                    vehicles.remove(v_id)\n",
    "\n",
    "    print('acc: ', correct_cnt / len(df))\n",
    "\n",
    "get_intention(df)"
   ]
  },
  {
   "cell_type": "code",
   "execution_count": null,
   "metadata": {},
   "outputs": [],
   "source": []
  },
  {
   "cell_type": "code",
   "execution_count": null,
   "metadata": {},
   "outputs": [],
   "source": []
  },
  {
   "cell_type": "code",
   "execution_count": null,
   "metadata": {
    "scrolled": true
   },
   "outputs": [],
   "source": [
    "\n",
    "dd = df.loc[df['Vehicle_ID'] == 7]\n",
    "dd = dd[['Vehicle_ID', 'v_Acc', 'Local_Y', 'Local_X', 'lateral_vel', 'lateral_acc', 'Lane_ID', 'behavior']]\n",
    "pd.options.display.float_format = \"{:.2f}\".format\n",
    "with pd.option_context('display.max_rows', None, 'display.max_columns', None):\n",
    "    display(dd)\n",
    "    "
   ]
  },
  {
   "cell_type": "code",
   "execution_count": null,
   "metadata": {},
   "outputs": [],
   "source": [
    "from mpl_toolkits.mplot3d import Axes3D\n",
    "import matplotlib.pyplot as plt\n",
    "%matplotlib notebook"
   ]
  },
  {
   "cell_type": "code",
   "execution_count": null,
   "metadata": {},
   "outputs": [],
   "source": [
    "fig = plt.figure()\n",
    "ax = fig.add_subplot(111, projection='3d')\n",
    "\n",
    "\n",
    "is_0 = np.nonzero(label)\n",
    "is_1 = np.delete(np.arange(len(label)), is_0)\n",
    "\n",
    "ax.scatter(data[is_0,0]**2, data[is_0,1]**2, label[is_0], c='r', marker='o')\n",
    "ax.scatter(data[is_1,0]**2, data[is_1,1]**2, label[is_1], c='b', marker='^')\n",
    "\n",
    "ax.set_xlabel('f8')\n",
    "ax.set_ylabel('f9')\n",
    "ax.set_zlabel('label')\n",
    "ax.set_xlim(0,200)\n",
    "plt.show()\n"
   ]
  },
  {
   "cell_type": "code",
   "execution_count": null,
   "metadata": {},
   "outputs": [],
   "source": []
  },
  {
   "cell_type": "code",
   "execution_count": null,
   "metadata": {},
   "outputs": [],
   "source": []
  },
  {
   "cell_type": "code",
   "execution_count": null,
   "metadata": {},
   "outputs": [],
   "source": []
  },
  {
   "cell_type": "code",
   "execution_count": null,
   "metadata": {},
   "outputs": [],
   "source": []
  }
 ],
 "metadata": {
  "anaconda-cloud": {},
  "kernelspec": {
   "display_name": "Python [conda env:py3]",
   "language": "python",
   "name": "conda-env-py3-py"
  },
  "language_info": {
   "codemirror_mode": {
    "name": "ipython",
    "version": 3
   },
   "file_extension": ".py",
   "mimetype": "text/x-python",
   "name": "python",
   "nbconvert_exporter": "python",
   "pygments_lexer": "ipython3",
   "version": "3.6.2"
  }
 },
 "nbformat": 4,
 "nbformat_minor": 2
}
