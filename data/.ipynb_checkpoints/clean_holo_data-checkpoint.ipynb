{
 "cells": [
  {
   "cell_type": "code",
   "execution_count": 1,
   "metadata": {},
   "outputs": [],
   "source": [
    "import pandas as pd\n",
    "import numpy as np\n",
    "import pickle as pk"
   ]
  },
  {
   "cell_type": "code",
   "execution_count": 31,
   "metadata": {},
   "outputs": [],
   "source": [
    "file_name = 'holo_dirty_sample'\n",
    "df = pd.read_csv(file_name + '.csv')\n",
    "df['behavior'] = np.zeros(len(df)).astype(np.int)"
   ]
  },
  {
   "cell_type": "code",
   "execution_count": 32,
   "metadata": {},
   "outputs": [],
   "source": [
    "used_id = set()\n",
    "\n",
    "used_id = set(list(df['Vehicle_ID']))"
   ]
  },
  {
   "cell_type": "code",
   "execution_count": 33,
   "metadata": {},
   "outputs": [],
   "source": [
    "max_l = dict()\n",
    "max_w = dict()\n",
    "for i in range(len(df)):\n",
    "    r = df.iloc[i]\n",
    "    v_id = r.Vehicle_ID\n",
    "    \n",
    "    if v_id not in max_w.keys():        \n",
    "        max_w[v_id] = r.v_Width\n",
    "        max_l[v_id] = r.v_length\n",
    "    else:\n",
    "        max_w[v_id] = max(max_w[v_id], r.v_Width)\n",
    "        max_l[v_id] = max(max_l[v_id], r.v_length)\n",
    "        \n",
    "for v_id in max_l.keys():\n",
    "    if max_l[v_id] < 4:\n",
    "        max_l[v_id] = 4.5\n",
    "    if max_w[v_id] < 1.5:\n",
    "        max_w[v_id] = 2\n",
    "    "
   ]
  },
  {
   "cell_type": "code",
   "execution_count": 34,
   "metadata": {},
   "outputs": [],
   "source": [
    "dT = 0.1\n",
    "x = list()\n",
    "y = list()\n",
    "vehicles = dict()\n",
    "show_up = set()\n",
    "vel_sum = 0\n",
    "\n",
    "id_map = dict()\n",
    "discard_id = set()\n",
    "id_cnt = 1\n",
    "r_id_map = dict()\n",
    "\n",
    "for i in range(len(df)):\n",
    "    r = df.iloc[i]\n",
    "    v_id = r.Vehicle_ID\n",
    "    \n",
    "    df.at[i,'v_Width'] = max_w[v_id]\n",
    "    df.at[i,'v_length'] = max_l[v_id]\n",
    "    \n",
    "    if v_id in id_map:\n",
    "        v_id = id_map[v_id]\n",
    "    elif v_id in discard_id:\n",
    "        while id_cnt in used_id:\n",
    "            id_cnt += 1\n",
    "        id_map[v_id] = id_cnt\n",
    "        r_id_map[id_cnt] = v_id\n",
    "        v_id = id_map[v_id]\n",
    "        \n",
    "    df.at[i,'Global_Time'] = df.at[i,'Frame_ID'] * 100\n",
    "    df.at[i,'Local_X'] = df.at[i,'Global_X'] - df.at[0, 'Global_X']\n",
    "    df.at[i,'Local_Y'] = df.at[i,'Global_Y'] - df.at[0, 'Global_Y']\n",
    "    \n",
    "    if v_id not in vehicles.keys():\n",
    "        vehicles[v_id] = i\n",
    "        df.at[i,'v_Acc'] = 0\n",
    "    else:\n",
    "        df.at[i,'v_Acc'] = df.at[i,'v_Vel'] - df.at[vehicles[v_id], 'v_Vel']\n",
    "\n",
    "    show_up.add(v_id)\n",
    "\n",
    "    if i == len(df)-1 or r.Global_Time != df.iloc[i+1].Global_Time:\n",
    "        for v_id in vehicles.keys():\n",
    "            if v_id not in show_up:\n",
    "                vehicles.remove(v_id)\n",
    "                discard_id.add(v_id)\n",
    "                id_map.remove(r_id_map(v_id))"
   ]
  },
  {
   "cell_type": "code",
   "execution_count": 35,
   "metadata": {},
   "outputs": [],
   "source": [
    "df[['Local_X', 'Local_Y', 'Global_X', 'Global_Y', 'v_Vel', 'v_Acc','v_length', 'v_Width', 'Space_Headway' ]] *= 3.28"
   ]
  },
  {
   "cell_type": "code",
   "execution_count": 38,
   "metadata": {},
   "outputs": [],
   "source": [
    "columnsTitles=[\"Local_X\",\"Local_Y\"]\n",
    "df[[\"Local_X\",\"Local_Y\"]]=df.reindex(columns=columnsTitles)\n",
    "df['Local_X'] = -df['Local_X']"
   ]
  },
  {
   "cell_type": "code",
   "execution_count": 39,
   "metadata": {},
   "outputs": [
    {
     "data": {
      "text/html": [
       "<div>\n",
       "<style>\n",
       "    .dataframe thead tr:only-child th {\n",
       "        text-align: right;\n",
       "    }\n",
       "\n",
       "    .dataframe thead th {\n",
       "        text-align: left;\n",
       "    }\n",
       "\n",
       "    .dataframe tbody tr th {\n",
       "        vertical-align: top;\n",
       "    }\n",
       "</style>\n",
       "<table border=\"1\" class=\"dataframe\">\n",
       "  <thead>\n",
       "    <tr style=\"text-align: right;\">\n",
       "      <th></th>\n",
       "      <th>Local_X</th>\n",
       "      <th>Local_Y</th>\n",
       "    </tr>\n",
       "  </thead>\n",
       "  <tbody>\n",
       "    <tr>\n",
       "      <th>0</th>\n",
       "      <td>-0.00000</td>\n",
       "      <td>0.00000</td>\n",
       "    </tr>\n",
       "    <tr>\n",
       "      <th>1</th>\n",
       "      <td>185.10680</td>\n",
       "      <td>109.52904</td>\n",
       "    </tr>\n",
       "    <tr>\n",
       "      <th>2</th>\n",
       "      <td>314.05016</td>\n",
       "      <td>131.12456</td>\n",
       "    </tr>\n",
       "    <tr>\n",
       "      <th>3</th>\n",
       "      <td>-382.86784</td>\n",
       "      <td>-142.75872</td>\n",
       "    </tr>\n",
       "    <tr>\n",
       "      <th>4</th>\n",
       "      <td>-60.46680</td>\n",
       "      <td>4.98560</td>\n",
       "    </tr>\n",
       "    <tr>\n",
       "      <th>5</th>\n",
       "      <td>-194.47120</td>\n",
       "      <td>-65.95752</td>\n",
       "    </tr>\n",
       "    <tr>\n",
       "      <th>6</th>\n",
       "      <td>238.85288</td>\n",
       "      <td>83.89584</td>\n",
       "    </tr>\n",
       "    <tr>\n",
       "      <th>7</th>\n",
       "      <td>293.72072</td>\n",
       "      <td>94.62472</td>\n",
       "    </tr>\n",
       "    <tr>\n",
       "      <th>8</th>\n",
       "      <td>258.08024</td>\n",
       "      <td>102.94280</td>\n",
       "    </tr>\n",
       "    <tr>\n",
       "      <th>9</th>\n",
       "      <td>0.42968</td>\n",
       "      <td>-1.07584</td>\n",
       "    </tr>\n",
       "  </tbody>\n",
       "</table>\n",
       "</div>"
      ],
      "text/plain": [
       "     Local_X    Local_Y\n",
       "0   -0.00000    0.00000\n",
       "1  185.10680  109.52904\n",
       "2  314.05016  131.12456\n",
       "3 -382.86784 -142.75872\n",
       "4  -60.46680    4.98560\n",
       "5 -194.47120  -65.95752\n",
       "6  238.85288   83.89584\n",
       "7  293.72072   94.62472\n",
       "8  258.08024  102.94280\n",
       "9    0.42968   -1.07584"
      ]
     },
     "execution_count": 39,
     "metadata": {},
     "output_type": "execute_result"
    }
   ],
   "source": [
    "df[:10]"
   ]
  },
  {
   "cell_type": "code",
   "execution_count": 40,
   "metadata": {},
   "outputs": [],
   "source": [
    "df.to_csv('holo_sample_cleaned.csv')"
   ]
  },
  {
   "cell_type": "code",
   "execution_count": 19,
   "metadata": {},
   "outputs": [],
   "source": []
  },
  {
   "cell_type": "code",
   "execution_count": null,
   "metadata": {},
   "outputs": [],
   "source": []
  }
 ],
 "metadata": {
  "anaconda-cloud": {},
  "kernelspec": {
   "display_name": "Python 3.6",
   "language": "python",
   "name": "py3"
  },
  "language_info": {
   "codemirror_mode": {
    "name": "ipython",
    "version": 3
   },
   "file_extension": ".py",
   "mimetype": "text/x-python",
   "name": "python",
   "nbconvert_exporter": "python",
   "pygments_lexer": "ipython3",
   "version": "3.6.2"
  }
 },
 "nbformat": 4,
 "nbformat_minor": 2
}
