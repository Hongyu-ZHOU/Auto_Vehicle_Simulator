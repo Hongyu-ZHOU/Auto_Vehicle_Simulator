{
 "cells": [
  {
   "cell_type": "code",
   "execution_count": 1,
   "metadata": {},
   "outputs": [],
   "source": [
    "import numpy as np\n",
    "import pandas as pd\n",
    "import pickle"
   ]
  },
  {
   "cell_type": "code",
   "execution_count": 40,
   "metadata": {},
   "outputs": [],
   "source": [
    "df = pd.read_csv('1_min_labeled.csv')\n",
    "\n",
    "f = open('A.txt', 'rb')\n",
    "A = pickle.load(f)\n"
   ]
  },
  {
   "cell_type": "code",
   "execution_count": 41,
   "metadata": {},
   "outputs": [
    {
     "data": {
      "text/plain": [
       "101475"
      ]
     },
     "execution_count": 41,
     "metadata": {},
     "output_type": "execute_result"
    }
   ],
   "source": [
    "len(df)"
   ]
  },
  {
   "cell_type": "code",
   "execution_count": 42,
   "metadata": {},
   "outputs": [],
   "source": [
    "def calc_features(vehicles, ego_id, v_mean):\n",
    "    \n",
    "    ego = vehicles[ego_id]\n",
    "    if ego.Preceding in vehicles.keys():\n",
    "        front = vehicles[ego.Preceding]\n",
    "    else:\n",
    "        front = None\n",
    "    \n",
    "    if len(vehicles) > 1:\n",
    "        v_mean = (v_mean * len(vehicles) - ego.v_Vel) / (len(vehicles)-1)\n",
    "    \n",
    "    lane_width = 12\n",
    "    \n",
    "    f = np.zeros(10)\n",
    "    f[0] = lane_width\n",
    "    f[1] = ego.v_Acc # because the angle is small, we use a to approximate longitudinal acceleration\n",
    "    f[2] = 0 # No deceleration light info in data\n",
    "    f[3] = ego.lateral_acc\n",
    "    f[4] = ego.v_Vel - v_mean\n",
    "    f[5] = ego.v_Vel - front.v_Vel if front is not None else 0\n",
    "    f[6] = -1 if min(ego.Local_X % lane_width, lane_width - (ego.Local_X % lane_width)) - (ego.v_Width/2) < 0 else 0\n",
    "    f[7] = 0\n",
    "    f[8] = ego.lateral_vel # calculated by Local_X derivative\n",
    "    f[9] = (ego.Local_X % lane_width) - (lane_width / 2)\n",
    "    \n",
    "    return f\n",
    "\n"
   ]
  },
  {
   "cell_type": "code",
   "execution_count": 43,
   "metadata": {},
   "outputs": [],
   "source": [
    "dT = 0.1\n",
    "x = list()\n",
    "y = list()\n",
    "vehicles = dict()\n",
    "show_up = set()\n",
    "vel_sum = 0\n",
    "correct_cnt = 0\n",
    "p = dict()\n",
    "f = open('random_forest_changing.txt', 'rb')\n",
    "rfc = pickle.load(f)"
   ]
  },
  {
   "cell_type": "code",
   "execution_count": 44,
   "metadata": {
    "scrolled": true
   },
   "outputs": [
    {
     "name": "stdout",
     "output_type": "stream",
     "text": [
      "0\n",
      "10000\n",
      "20000\n",
      "30000\n",
      "40000\n",
      "50000\n",
      "60000\n",
      "70000\n",
      "80000\n",
      "90000\n",
      "100000\n",
      "acc:  0.0\n"
     ]
    }
   ],
   "source": [
    "last_time = 0\n",
    "avg_lateral_v = dict()\n",
    "for i, r in df.iterrows():\n",
    "    \n",
    "    if i == len(df)-1 or r.Global_Time != last_time:\n",
    "        v_ids = list(vehicles.keys())\n",
    "        for v_id in v_ids:\n",
    "            if v_id not in show_up:\n",
    "                vehicles.pop(v_id)\n",
    "        show_up = set()\n",
    "    \n",
    "    v_id = r.Vehicle_ID\n",
    "    \n",
    "    if v_id not in vehicles.keys():\n",
    "        p[v_id] = np.array([0.1, 0.1, 0.8])\n",
    "        avg_lateral_v[v_id] = 0\n",
    "\n",
    "    show_up.add(v_id)\n",
    "    vehicles[v_id] = r.copy()\n",
    "    f = calc_features(vehicles, v_id, r.mean_vel)\n",
    "    f = np.zeros(10)\n",
    "    \n",
    "    avg_lateral_v[v_id] = avg_lateral_v[v_id] * 0.9 + f[8]\n",
    "    d = int(avg_lateral_v[v_id] > 0)\n",
    "\n",
    "# #         PyB = measure_prob(f, changing_lane_coef, accelerating_coef)\n",
    "\n",
    "    PyB = np.zeros(3)\n",
    "    turning = rfc.predict_proba(f[np.newaxis,:])[0]\n",
    "    PyB[2] = turning[0]\n",
    "    PyB[d] = turning[1]\n",
    "\n",
    "\n",
    "    if f[6] == -1:\n",
    "        B = d\n",
    "        PyB[B] = 1\n",
    "    else:\n",
    "\n",
    "        p[v_id] = np.multiply(PyB , np.matmul(p[v_id], A));\n",
    "        p[v_id] = PyB;\n",
    "        p[v_id] = p[v_id] / np.sum(p[v_id])\n",
    "        B = np.argmax(p[v_id])\n",
    "\n",
    "#     correct_cnt += r.behavior == B\n",
    "#         print('curr p = ', p[v_id])\n",
    "#         print('pred = ', B,  'gt = ', r.behavior)\n",
    "\n",
    "#     remove exited car after every moment\n",
    "\n",
    "\n",
    "    if i % 10000 == 0:\n",
    "        print(i,)\n",
    "print('acc: ', correct_cnt / len(df))\n"
   ]
  },
  {
   "cell_type": "code",
   "execution_count": null,
   "metadata": {},
   "outputs": [],
   "source": []
  }
 ],
 "metadata": {
  "anaconda-cloud": {},
  "kernelspec": {
   "display_name": "Python 3.6",
   "language": "python",
   "name": "py3"
  },
  "language_info": {
   "codemirror_mode": {
    "name": "ipython",
    "version": 3
   },
   "file_extension": ".py",
   "mimetype": "text/x-python",
   "name": "python",
   "nbconvert_exporter": "python",
   "pygments_lexer": "ipython3",
   "version": "3.6.2"
  }
 },
 "nbformat": 4,
 "nbformat_minor": 2
}
