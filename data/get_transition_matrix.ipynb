{
 "cells": [
  {
   "cell_type": "code",
   "execution_count": 1,
   "metadata": {},
   "outputs": [],
   "source": [
    "import pandas as pd\n",
    "import numpy as np\n",
    "import pickle as pk"
   ]
  },
  {
   "cell_type": "code",
   "execution_count": 4,
   "metadata": {},
   "outputs": [],
   "source": [
    "file_name = '1_min'\n",
    "df = pd.read_csv(file_name + '.csv')\n",
    "df['behavior'] = np.zeros(len(df)).astype(np.int)"
   ]
  },
  {
   "cell_type": "code",
   "execution_count": 5,
   "metadata": {},
   "outputs": [],
   "source": [
    "intention_2_action_delay = 3000\n",
    "\n",
    "acc_threshold = 1\n",
    "\n",
    "# 0 for changing to left\n",
    "# 1 for changing to right\n",
    "# 2 for following\n",
    "\n",
    "next_lane_change_time = dict()\n",
    "next_lane_change_direct = dict()\n",
    "next_vel_change_time = dict()\n",
    "next_vel_change_direct = dict()\n",
    "\n",
    "def classify_behavior(v_id):\n",
    "    if next_lane_change_time[v_id] > -1 and next_lane_change_time[v_id] - r.Global_Time < intention_2_action_delay:\n",
    "        return next_lane_change_direct[v_id]\n",
    "    return 2\n",
    "#     if next_vel_change_time[v_id] > -1 and next_vel_change_time[v_id] - r.Global_Time < intention_2_action_delay:\n",
    "#         return next_vel_change_direct[v_id] + 2\n",
    "#     return 4\n",
    "\n",
    "lane_id = dict()\n",
    "behavior_seq = dict()\n",
    "cnt = np.zeros((5, 5))\n",
    "for i in reversed(range(len(df))):\n",
    "    \n",
    "    r = df.iloc[i]\n",
    "    v_id = r.Vehicle_ID\n",
    "    \n",
    "    if v_id not in lane_id.keys():\n",
    "        lane_id[v_id] = r.Lane_ID\n",
    "        next_lane_change_time[v_id] = -1\n",
    "        next_vel_change_time[v_id] = -1\n",
    "        behavior_seq[v_id] = list()\n",
    "    \n",
    "    if r.Lane_ID != lane_id[v_id]:\n",
    "        next_lane_change_time[v_id] = r.Global_Time\n",
    "        next_lane_change_direct[v_id] = int(r.Lane_ID > lane_id[v_id])\n",
    "        lane_id[v_id] = r.Lane_ID\n",
    "    \n",
    "#     if abs(r.v_Acc) > acc_threshold:\n",
    "#         next_vel_change_time[v_id] = r.Global_Time\n",
    "#         next_vel_change_direct[v_id] = int(r.v_Acc > 0)\n",
    "    \n",
    "    bhv = classify_behavior(v_id)\n",
    "    behavior_seq[v_id].append(bhv)\n",
    "    df.at[i,'behavior']= bhv\n",
    "    "
   ]
  },
  {
   "cell_type": "code",
   "execution_count": 6,
   "metadata": {},
   "outputs": [
    {
     "name": "stdout",
     "output_type": "stream",
     "text": [
      "[[  9.66057441e-01   0.00000000e+00   3.39425587e-02]\n",
      " [  5.42888165e-04   9.66340934e-01   3.31161781e-02]\n",
      " [  2.33164036e-04   6.08254007e-04   9.99158582e-01]]\n"
     ]
    }
   ],
   "source": [
    "for v_id in behavior_seq.keys():\n",
    "    for i in range(len(behavior_seq[v_id])-1):\n",
    "        cnt[behavior_seq[v_id][i+1]][behavior_seq[v_id][i]] += 1 # because we append by reverse order.\n",
    "\n",
    "A = np.zeros((3,3))\n",
    "for i in range(3):\n",
    "    for j in range(3):\n",
    "        A[i,j] = cnt[i,j] / sum(cnt[i,:])\n",
    "\n",
    "print(A)"
   ]
  },
  {
   "cell_type": "code",
   "execution_count": 8,
   "metadata": {},
   "outputs": [],
   "source": [
    "f = open('A.txt','wb')\n",
    "pk.dump(A, f)"
   ]
  },
  {
   "cell_type": "code",
   "execution_count": 9,
   "metadata": {},
   "outputs": [
    {
     "data": {
      "text/plain": [
       "array([[  9.66057441e-01,   0.00000000e+00,   3.39425587e-02],\n",
       "       [  5.42888165e-04,   9.66340934e-01,   3.31161781e-02],\n",
       "       [  2.33164036e-04,   6.08254007e-04,   9.99158582e-01]])"
      ]
     },
     "execution_count": 9,
     "metadata": {},
     "output_type": "execute_result"
    }
   ],
   "source": [
    "A"
   ]
  },
  {
   "cell_type": "code",
   "execution_count": 12,
   "metadata": {},
   "outputs": [],
   "source": [
    "f = open('A.txt', 'rb')\n",
    "AA = pk.load(f)"
   ]
  },
  {
   "cell_type": "code",
   "execution_count": 13,
   "metadata": {},
   "outputs": [
    {
     "data": {
      "text/plain": [
       "array([[  9.66057441e-01,   0.00000000e+00,   3.39425587e-02],\n",
       "       [  5.42888165e-04,   9.66340934e-01,   3.31161781e-02],\n",
       "       [  2.33164036e-04,   6.08254007e-04,   9.99158582e-01]])"
      ]
     },
     "execution_count": 13,
     "metadata": {},
     "output_type": "execute_result"
    }
   ],
   "source": [
    "AA"
   ]
  },
  {
   "cell_type": "code",
   "execution_count": null,
   "metadata": {},
   "outputs": [],
   "source": []
  }
 ],
 "metadata": {
  "anaconda-cloud": {},
  "kernelspec": {
   "display_name": "Python 3.6",
   "language": "python",
   "name": "py3"
  },
  "language_info": {
   "codemirror_mode": {
    "name": "ipython",
    "version": 3
   },
   "file_extension": ".py",
   "mimetype": "text/x-python",
   "name": "python",
   "nbconvert_exporter": "python",
   "pygments_lexer": "ipython3",
   "version": "3.6.2"
  }
 },
 "nbformat": 4,
 "nbformat_minor": 2
}
