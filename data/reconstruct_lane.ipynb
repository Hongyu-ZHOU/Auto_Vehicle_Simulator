{
 "cells": [
  {
   "cell_type": "code",
   "execution_count": 72,
   "metadata": {},
   "outputs": [],
   "source": [
    "import pandas as pd\n",
    "import numpy as np\n",
    "import pickle as pk\n",
    "import matplotlib.pyplot as plt\n",
    "%matplotlib inline"
   ]
  },
  {
   "cell_type": "code",
   "execution_count": 86,
   "metadata": {},
   "outputs": [
    {
     "data": {
      "text/plain": [
       "24025"
      ]
     },
     "execution_count": 86,
     "metadata": {},
     "output_type": "execute_result"
    }
   ],
   "source": [
    "file_name = '1_lane' + str(k)\n",
    "df = pd.read_csv(file_name + '.csv')\n",
    "len(df)"
   ]
  },
  {
   "cell_type": "code",
   "execution_count": 104,
   "metadata": {},
   "outputs": [
    {
     "data": {
      "text/plain": [
       "'[[461076.97575213521, 4432152.3238287885], [461077.11510382238, 4432147.9371489668], [461077.25427611085, 4432143.550463682], [461077.39368066913, 4432139.1637854688], [461077.53372916597, 4432134.7771268617], [461077.67483326996, 4432130.3905003937], [461077.81740464974, 4432126.0039185984], [461077.96185497398, 4432121.6173940087], [461078.10859591124, 4432117.2309391601], [461078.25803913025, 4432112.8445665855]]'"
      ]
     },
     "execution_count": 104,
     "metadata": {},
     "output_type": "execute_result"
    }
   ],
   "source": [
    "df['Lane_Boundary_Left_Global'][504]"
   ]
  },
  {
   "cell_type": "code",
   "execution_count": 151,
   "metadata": {},
   "outputs": [
    {
     "data": {
      "image/png": "[encoded data removed]",
      "text/plain": [
       "<Figure size 432x288 with 1 Axes>"
      ]
     },
     "metadata": {},
     "output_type": "display_data"
    },
    {
     "data": {
      "image/png": "[encoded data removed]",
      "text/plain": [
       "<Figure size 432x288 with 1 Axes>"
      ]
     },
     "metadata": {},
     "output_type": "display_data"
    },
    {
     "data": {
      "image/png": "[encoded data removed]",
      "text/plain": [
       "<Figure size 432x288 with 1 Axes>"
      ]
     },
     "metadata": {},
     "output_type": "display_data"
    }
   ],
   "source": [
    "for k in range(3):\n",
    "    plt.figure()\n",
    "    file_name = '1_lane' + str(k)\n",
    "    df = pd.read_csv(file_name + '.csv')\n",
    "    lane = np.zeros((len(df),2))\n",
    "    for i in range(len(df)):\n",
    "        a = np.array(list(map(lambda x:np.array(x.split(',')).astype(np.float), df.at[i,'Lane_Boundary_Left_Global'][2:-2].split('], ['))))\n",
    "        lane[i-start,:] = a[len(a)//2]\n",
    "    \n",
    "    idx = np.where((461000 < lane[:,0]) & (lane[:,0] < 466000))[0]\n",
    "    plt.scatter(lane[idx,0], lane[idx,1])\n",
    "    plt.savefig(file_name + '.png')\n",
    "#     plt.scatter(lane[:,0], lane[:,1])\n",
    "#     plt.savefig(file_name + '_original.png')\n",
    "\n",
    "# plt.xlim(464600, 464700)\n",
    "# plt.ylim(4431620, 4431660)\n",
    "# plt.savefig('1_lane_local.png')\n",
    "# plt.show()"
   ]
  },
  {
   "cell_type": "code",
   "execution_count": 137,
   "metadata": {},
   "outputs": [
    {
     "data": {
      "text/plain": [
       "(463000, 463100)"
      ]
     },
     "execution_count": 137,
     "metadata": {},
     "output_type": "execute_result"
    },
    {
     "data": {
      "image/png": "[encoded data removed]",
      "text/plain": [
       "<Figure size 432x288 with 1 Axes>"
      ]
     },
     "metadata": {},
     "output_type": "display_data"
    }
   ],
   "source": [
    "for k in range(3):\n",
    "    plt.figure()\n",
    "    file_name = '1_lane' + str(k)\n",
    "    df = pd.read_csv(file_name + '.csv')\n",
    "    lane = np.zeros((len(df),2))\n",
    "    for i in range(len(df)):\n",
    "        a = np.array(list(map(lambda x:np.array(x.split(',')).astype(np.float), df.at[i,'Lane_Boundary_Left_Global'][2:-2].split('], ['))))\n",
    "        lane[i-start,:] = a[len(a)//2]\n",
    "    \n",
    "    idx = np.where((461000 < lane[:,0]) & (lane[:,0] < 466000))[0]\n",
    "    plt.scatter(lane[idx,0], lane[idx,1])\n",
    "    plt.savefig(file_name + '.png')\n",
    "#     plt.scatter(lane[:,0], lane[:,1])\n",
    "#     plt.savefig(file_name + '_original.png')\n",
    "\n",
    "# plt.xlim(464600, 464700)\n",
    "# plt.ylim(4431620, 4431660)\n",
    "# plt.savefig('1_lane_local.png')\n",
    "# plt.show()"
   ]
  },
  {
   "cell_type": "code",
   "execution_count": null,
   "metadata": {},
   "outputs": [],
   "source": []
  }
 ],
 "metadata": {
  "anaconda-cloud": {},
  "kernelspec": {
   "display_name": "Python 3.6",
   "language": "python",
   "name": "py3"
  },
  "language_info": {
   "codemirror_mode": {
    "name": "ipython",
    "version": 3
   },
   "file_extension": ".py",
   "mimetype": "text/x-python",
   "name": "python",
   "nbconvert_exporter": "python",
   "pygments_lexer": "ipython3",
   "version": "3.6.2"
  }
 },
 "nbformat": 4,
 "nbformat_minor": 2
}
